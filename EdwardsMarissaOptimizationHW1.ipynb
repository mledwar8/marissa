{
  "nbformat": 4,
  "nbformat_minor": 0,
  "metadata": {
    "colab": {
      "provenance": []
    },
    "kernelspec": {
      "name": "python3",
      "display_name": "Python 3"
    },
    "language_info": {
      "name": "python"
    }
  },
  "cells": [
    {
      "cell_type": "code",
      "source": [
        "# Marissa Edwards\n",
        "# Optimization HW 1\n",
        "# Problem 1\n",
        "\n",
        "import numpy as np\n",
        "from scipy.optimize import minimize\n",
        "\n",
        "# defining the objective \"what you are minimizing\"\n",
        "def obj(x):\n",
        "    return (x[0]-x[1])**2 + (x[1]+x[2]-2)**2 + (x[3]-1)**2 + (x[4]-1)**2\n",
        "# note ** is ^ in python\n",
        "# note also x[0] is x1\n",
        "\n",
        "# initial guesses\n",
        "n = 5\n",
        "x0 = np.zeros(n)\n",
        "x0[0] = -2.5\n",
        "x0[1] = -0.5\n",
        "x0[2] = 4.5\n",
        "x0[3] = 0.5\n",
        "x0[4] = 0.5\n",
        "\n",
        "# optimize\n",
        "parameters = (-10,10) # given in the problem\n",
        "\n",
        "# add parameters aka x1, x2, x3, x4, x5\n",
        "bnds = (parameters, parameters, parameters, parameters, parameters)\n",
        "# also add the constraint\n",
        "con1 = {'type': 'eq', 'fun': x[0]+ (3*x[2])} \n",
        "con2 = {'type': 'eq', 'fun': x[2]+ x[3] - (2*x[4])}\n",
        "con3 = {'type': 'eq', 'fun': x[1] - x[4]}\n",
        "cons = ([con1,con2,con3])\n",
        "solution = minimize(obj,x0,method='SLSQP', bounds=bnds,constraints=cons)\n",
        "x = solution.x\n",
        "\n",
        "# show final objective\n",
        "print('Final Objective: ' + str(obj(x)))\n",
        "\n",
        "# print solution\n",
        "print('Solution')\n",
        "print('x1 = ' + str(x[0]))\n",
        "print('x2 = ' + str(x[1]))\n",
        "print('x3 = ' + str(x[2]))\n",
        "print('x4 = ' + str(x[3]))\n",
        "print('x4 = ' + str(x[4]))\n",
        "\n"
      ],
      "metadata": {
        "id": "XUUpkaOXi1Q2"
      },
      "execution_count": null,
      "outputs": []
    },
    {
      "cell_type": "code",
      "source": [],
      "metadata": {
        "id": "YqilvrIJi9-h"
      },
      "execution_count": null,
      "outputs": []
    }
  ]
}